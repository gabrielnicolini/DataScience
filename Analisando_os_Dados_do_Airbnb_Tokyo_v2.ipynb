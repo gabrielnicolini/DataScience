{
  "nbformat": 4,
  "nbformat_minor": 0,
  "metadata": {
    "colab": {
      "name": "Analisando os Dados do Airbnb - Tokyo_v2.ipynb",
      "provenance": [],
      "collapsed_sections": [],
      "include_colab_link": true
    },
    "kernelspec": {
      "name": "python3",
      "display_name": "Python 3"
    }
  },
  "cells": [
    {
      "cell_type": "markdown",
      "metadata": {
        "id": "view-in-github",
        "colab_type": "text"
      },
      "source": [
        "<a href=\"https://colab.research.google.com/github/gabrielnicolini/DataScience/blob/main/Analisando_os_Dados_do_Airbnb_Tokyo_v2.ipynb\" target=\"_parent\"><img src=\"https://colab.research.google.com/assets/colab-badge.svg\" alt=\"Open In Colab\"/></a>"
      ]
    },
    {
      "cell_type": "markdown",
      "metadata": {
        "id": "kLI0gJtzDGuQ"
      },
      "source": [
        "# Análise dos Dados do Airbnb - *Tokyo*\n",
        "\n",
        "O [Airbnb](https://www.airbnb.com.br/) é considerado como sendo a **maior empresa hoteleira da atualidade**. E o mais engraçado é que ela **não possui nenhum hotel**!\n",
        "\n",
        "Conectando pessoas que querem viajar (e se hospedar) com anfitriões que querem alugar seus imóveis de maneira prática, o Airbnb fornece uma plataforma inovadora para tornar essa hospedagem alternativa, agradavel e fácil.\n",
        "\n",
        "No final de 2018, a Startup fundada 10 anos atrás, já havia **hospedado mais de 300 milhões** de pessoas ao redor de todo o mundo, desafiando as redes hoteleiras tradicionais.\n",
        "\n",
        "Uma das iniciativas do Airbnb é disponibilizar dados do site, para algumas das principais cidades do mundo. Por meio do portal [Inside Airbnb](http://insideairbnb.com/get-the-data.html), é possível baixar uma grande quantidade de dados para desenvolver projetos e soluções de *Data Science*.\n",
        "\n",
        "<center><img alt=\"Analisando Airbnb\" width=\"10%\" src=\"https://www.area360.com.au/wp-content/uploads/2017/09/airbnb-logo.jpg\"></center>\n",
        "\n",
        "**Neste *notebook*, iremos analisar os dados referentes à cidade de Tokyo, e ver quais insights podem ser extraídos a partir de dados brutos.**\n",
        "\n",
        "<center><img alt=\"Tokyo\" width=\"75%\" src=\"https://www.melhoresdestinos.com.br/wp-content/uploads/2019/02/passagens-aereas-tokyo-capa2019-01.jpg\"></center>"
      ]
    },
    {
      "cell_type": "markdown",
      "metadata": {
        "id": "0zxQHhIUDF_2"
      },
      "source": [
        "## Obtenção dos Dados\n"
      ]
    },
    {
      "cell_type": "code",
      "metadata": {
        "id": "Vhp2wMPgJ6zX"
      },
      "source": [
        "# importar os pacotes necessarios\n",
        "import pandas as pd\n",
        "import matplotlib.pyplot as plt\n",
        "import seaborn as sns\n",
        "\n",
        "%matplotlib inline"
      ],
      "execution_count": 3,
      "outputs": []
    },
    {
      "cell_type": "code",
      "metadata": {
        "id": "tUmoAT8DLQ5T"
      },
      "source": [
        "# importar o arquivo listings.csv para um DataFrame\n",
        "df = pd.read_csv(\"http://data.insideairbnb.com/japan/kant%C5%8D/tokyo/2021-03-27/visualisations/listings.csv\")"
      ],
      "execution_count": 4,
      "outputs": []
    },
    {
      "cell_type": "markdown",
      "metadata": {
        "id": "qb5By2nIMS6m"
      },
      "source": [
        "## Análise dos Dados\n",
        "\n",
        "Nesta parte estarei dando uma olhada nos tipos de dados de nosso dataset para verificar quais os tipos de variáveis e para checar como os dados estão estruturados."
      ]
    },
    {
      "cell_type": "markdown",
      "metadata": {
        "id": "RYgvuebKNg8-"
      },
      "source": [
        "**Dicionário das variáveis**\n",
        "\n",
        "* `id` - número de id gerado para identificar o anúncio\n",
        "* `name` - nome da propriedade anunciada\n",
        "* `host_id` - número de id do proprietário (anfitrião) da propriedade\n",
        "* `host_name` - Nome do anfitrião\n",
        "* `neighbourhood_group` - esta coluna não contém nenhum valor válido\n",
        "* `neighbourhood` - nome do bairro\n",
        "* `latitude` - coordenada da latitude da propriedade\n",
        "* `longitude` - coordenada da longitude da propriedade\n",
        "* `room_type` - informa o tipo de quarto que é oferecido\n",
        "* `price` - preço para alugar o imóvel\n",
        "* `minimum_nights` - quantidade mínima de noites para reservar\n",
        "* `number_of_reviews` - número de reviews que a propriedade possui\n",
        "* `last_review` - data do último review\n",
        "* `reviews_per_month` - quantidade de reviews por mês\n",
        "* `calculated_host_listings_count` - quantidade de imóveis do mesmo anfitrião\n",
        "* `availability_365` - número de dias de disponibilidade dentro de 365 dias\n",
        "\n",
        "Antes de iniciar qualquer análise, vamos verificar a cara do nosso *dataset*, analisando as 5 primeiras entradas."
      ]
    },
    {
      "cell_type": "code",
      "metadata": {
        "id": "2iS_dae7YQtO",
        "colab": {
          "base_uri": "https://localhost:8080/",
          "height": 479
        },
        "outputId": "2b8495dc-0052-4537-dd91-3349fa51ea25"
      },
      "source": [
        "# mostrar as 5 primeiras entradas\n",
        "df.head()"
      ],
      "execution_count": null,
      "outputs": [
        {
          "output_type": "execute_result",
          "data": {
            "text/html": [
              "<div>\n",
              "<style scoped>\n",
              "    .dataframe tbody tr th:only-of-type {\n",
              "        vertical-align: middle;\n",
              "    }\n",
              "\n",
              "    .dataframe tbody tr th {\n",
              "        vertical-align: top;\n",
              "    }\n",
              "\n",
              "    .dataframe thead th {\n",
              "        text-align: right;\n",
              "    }\n",
              "</style>\n",
              "<table border=\"1\" class=\"dataframe\">\n",
              "  <thead>\n",
              "    <tr style=\"text-align: right;\">\n",
              "      <th></th>\n",
              "      <th>id</th>\n",
              "      <th>name</th>\n",
              "      <th>host_id</th>\n",
              "      <th>host_name</th>\n",
              "      <th>neighbourhood_group</th>\n",
              "      <th>neighbourhood</th>\n",
              "      <th>latitude</th>\n",
              "      <th>longitude</th>\n",
              "      <th>room_type</th>\n",
              "      <th>price</th>\n",
              "      <th>minimum_nights</th>\n",
              "      <th>number_of_reviews</th>\n",
              "      <th>last_review</th>\n",
              "      <th>reviews_per_month</th>\n",
              "      <th>calculated_host_listings_count</th>\n",
              "      <th>availability_365</th>\n",
              "    </tr>\n",
              "  </thead>\n",
              "  <tbody>\n",
              "    <tr>\n",
              "      <th>0</th>\n",
              "      <td>197677</td>\n",
              "      <td>Oshiage Holiday Apartment</td>\n",
              "      <td>964081</td>\n",
              "      <td>Yoshimi &amp; Marek</td>\n",
              "      <td>NaN</td>\n",
              "      <td>Sumida Ku</td>\n",
              "      <td>35.71721</td>\n",
              "      <td>139.82596</td>\n",
              "      <td>Entire home/apt</td>\n",
              "      <td>11000</td>\n",
              "      <td>3</td>\n",
              "      <td>165</td>\n",
              "      <td>2020-03-04</td>\n",
              "      <td>1.42</td>\n",
              "      <td>1</td>\n",
              "      <td>363</td>\n",
              "    </tr>\n",
              "    <tr>\n",
              "      <th>1</th>\n",
              "      <td>776070</td>\n",
              "      <td>Kero-kero house room 1</td>\n",
              "      <td>801494</td>\n",
              "      <td>Kei</td>\n",
              "      <td>NaN</td>\n",
              "      <td>Kita Ku</td>\n",
              "      <td>35.73844</td>\n",
              "      <td>139.76917</td>\n",
              "      <td>Private room</td>\n",
              "      <td>7677</td>\n",
              "      <td>3</td>\n",
              "      <td>228</td>\n",
              "      <td>2020-01-18</td>\n",
              "      <td>2.25</td>\n",
              "      <td>1</td>\n",
              "      <td>148</td>\n",
              "    </tr>\n",
              "    <tr>\n",
              "      <th>2</th>\n",
              "      <td>899003</td>\n",
              "      <td>Classy room @Shinjuku, Takadanoba</td>\n",
              "      <td>4799233</td>\n",
              "      <td>Yu</td>\n",
              "      <td>NaN</td>\n",
              "      <td>Shinjuku Ku</td>\n",
              "      <td>35.71019</td>\n",
              "      <td>139.69755</td>\n",
              "      <td>Entire home/apt</td>\n",
              "      <td>5200</td>\n",
              "      <td>30</td>\n",
              "      <td>93</td>\n",
              "      <td>2019-11-25</td>\n",
              "      <td>0.94</td>\n",
              "      <td>2</td>\n",
              "      <td>0</td>\n",
              "    </tr>\n",
              "    <tr>\n",
              "      <th>3</th>\n",
              "      <td>1016831</td>\n",
              "      <td>WOMAN ONLY LICENSED ! Cosy &amp; Cat behnd Shibuya</td>\n",
              "      <td>5596383</td>\n",
              "      <td>Wakana</td>\n",
              "      <td>NaN</td>\n",
              "      <td>Setagaya Ku</td>\n",
              "      <td>35.65800</td>\n",
              "      <td>139.67134</td>\n",
              "      <td>Private room</td>\n",
              "      <td>4000</td>\n",
              "      <td>1</td>\n",
              "      <td>211</td>\n",
              "      <td>2020-03-16</td>\n",
              "      <td>2.17</td>\n",
              "      <td>1</td>\n",
              "      <td>0</td>\n",
              "    </tr>\n",
              "    <tr>\n",
              "      <th>4</th>\n",
              "      <td>1033276</td>\n",
              "      <td>private room @Senju area</td>\n",
              "      <td>5686404</td>\n",
              "      <td>NaN</td>\n",
              "      <td>NaN</td>\n",
              "      <td>Adachi Ku</td>\n",
              "      <td>35.74437</td>\n",
              "      <td>139.79739</td>\n",
              "      <td>Private room</td>\n",
              "      <td>30000</td>\n",
              "      <td>1</td>\n",
              "      <td>72</td>\n",
              "      <td>2018-06-17</td>\n",
              "      <td>0.75</td>\n",
              "      <td>2</td>\n",
              "      <td>271</td>\n",
              "    </tr>\n",
              "  </tbody>\n",
              "</table>\n",
              "</div>"
            ],
            "text/plain": [
              "        id  ... availability_365\n",
              "0   197677  ...              363\n",
              "1   776070  ...              148\n",
              "2   899003  ...                0\n",
              "3  1016831  ...                0\n",
              "4  1033276  ...              271\n",
              "\n",
              "[5 rows x 16 columns]"
            ]
          },
          "metadata": {
            "tags": []
          },
          "execution_count": 8
        }
      ]
    },
    {
      "cell_type": "markdown",
      "metadata": {
        "id": "6-B_qtEaYEd-"
      },
      "source": [
        "### **Q1. Quantos atributos (variáveis) e quantas entradas o nosso conjunto de dados possui? Quais os tipos das variáveis?**\n",
        "\n",
        "Vamos identificar a quantidade de entradas que nosso dataset possui e verificar o tipo de dado em cada coluna\n",
        "\n",
        "Detalhe: O dataset apresentado nesta analise e uma versao \"resumida\" do Airbnb. Na mesma página que baixamos o arquivo `listings.csv`. Há uma versão mais completa.(`listings.csv.gz`)."
      ]
    },
    {
      "cell_type": "code",
      "metadata": {
        "id": "TFRK0tniLV-G",
        "colab": {
          "base_uri": "https://localhost:8080/",
          "height": 357
        },
        "outputId": "b62049cc-5b3e-44c2-b550-534f6bdf1692"
      },
      "source": [
        "# identificar o volume de dados do DataFrame\n",
        "print(\"Entradas:\\t {}\".format(df.shape[0]))\n",
        "print(\"Entradas:\\t {}\\n\".format(df.shape[1]))\n",
        "\n",
        "# verificar as 5 primeiras entradas do dataset\n",
        "display(df.dtypes)"
      ],
      "execution_count": null,
      "outputs": [
        {
          "output_type": "stream",
          "text": [
            "Entradas:\t 11197\n",
            "Entradas:\t 16\n",
            "\n"
          ],
          "name": "stdout"
        },
        {
          "output_type": "display_data",
          "data": {
            "text/plain": [
              "id                                  int64\n",
              "name                               object\n",
              "host_id                             int64\n",
              "host_name                          object\n",
              "neighbourhood_group               float64\n",
              "neighbourhood                      object\n",
              "latitude                          float64\n",
              "longitude                         float64\n",
              "room_type                          object\n",
              "price                               int64\n",
              "minimum_nights                      int64\n",
              "number_of_reviews                   int64\n",
              "last_review                        object\n",
              "reviews_per_month                 float64\n",
              "calculated_host_listings_count      int64\n",
              "availability_365                    int64\n",
              "dtype: object"
            ]
          },
          "metadata": {
            "tags": []
          }
        }
      ]
    },
    {
      "cell_type": "markdown",
      "metadata": {
        "id": "yz1urSUGW9iE"
      },
      "source": [
        "### **Q2. Qual a porcentagem de valores ausentes no *dataset*?**\n",
        "\n",
        "A qualidade de um *dataset* esta diretamente ligada com quantidade de valores ausentes ou missing values. Para uma analise mais sofisticada, e importante verificar se os valores nulos serao significativos se comparados ao total de entradas de nosso dataset.\n",
        "\n",
        " * E possivel ver que a coluna `neighbourhood_group` possui 100% de seus valores faltantes.\n",
        " * Tambem e possivel observar que a quantidade de dados faltantes da coluna `reviews_per_month ` e `last_review` sao identicos\n",
        " "
      ]
    },
    {
      "cell_type": "code",
      "metadata": {
        "id": "plk2FjbCXOqP",
        "colab": {
          "base_uri": "https://localhost:8080/"
        },
        "outputId": "e25de511-c0cc-4843-f267-3b1cd9377ac4"
      },
      "source": [
        "# ordenar em ordem decrescente as variáveis por seus valores ausentes\n",
        "(df.isnull().sum() / df.shape[0]).sort_values(ascending=False)"
      ],
      "execution_count": null,
      "outputs": [
        {
          "output_type": "execute_result",
          "data": {
            "text/plain": [
              "neighbourhood_group               1.000000\n",
              "reviews_per_month                 0.183621\n",
              "last_review                       0.183621\n",
              "host_name                         0.027239\n",
              "availability_365                  0.000000\n",
              "calculated_host_listings_count    0.000000\n",
              "number_of_reviews                 0.000000\n",
              "minimum_nights                    0.000000\n",
              "price                             0.000000\n",
              "room_type                         0.000000\n",
              "longitude                         0.000000\n",
              "latitude                          0.000000\n",
              "neighbourhood                     0.000000\n",
              "host_id                           0.000000\n",
              "name                              0.000000\n",
              "id                                0.000000\n",
              "dtype: float64"
            ]
          },
          "metadata": {
            "tags": []
          },
          "execution_count": 15
        }
      ]
    },
    {
      "cell_type": "code",
      "metadata": {
        "colab": {
          "base_uri": "https://localhost:8080/"
        },
        "id": "M6wotA0-piQq",
        "outputId": "c8a1fdb4-2660-41d9-eb98-3eaec0170b07"
      },
      "source": [
        "# verificando quantidade de dados ausentes\n",
        "(df.isnull().sum()).sort_values(ascending=False)"
      ],
      "execution_count": 6,
      "outputs": [
        {
          "output_type": "execute_result",
          "data": {
            "text/plain": [
              "neighbourhood_group               11197\n",
              "reviews_per_month                  2056\n",
              "last_review                        2056\n",
              "host_name                           305\n",
              "availability_365                      0\n",
              "calculated_host_listings_count        0\n",
              "number_of_reviews                     0\n",
              "minimum_nights                        0\n",
              "price                                 0\n",
              "room_type                             0\n",
              "longitude                             0\n",
              "latitude                              0\n",
              "neighbourhood                         0\n",
              "host_id                               0\n",
              "name                                  0\n",
              "id                                    0\n",
              "dtype: int64"
            ]
          },
          "metadata": {
            "tags": []
          },
          "execution_count": 6
        }
      ]
    },
    {
      "cell_type": "markdown",
      "metadata": {
        "id": "3tODanJip-Yr"
      },
      "source": [
        "Podemos observar que existem muitos dados faltantes na coluna `neighbourhood_group`, `reviews_per_moonth`, `last_review` e `host_name`, como estas colunas nao possuem relevancia na analise que iremos fazer, iremos excluir estes valores faltantes."
      ]
    },
    {
      "cell_type": "code",
      "metadata": {
        "id": "4J4y-uR1q6dw"
      },
      "source": [
        "#excluindo colunas com dados faltantes\n",
        "df.drop(columns=['neighbourhood_group', 'reviews_per_month', 'last_review'], inplace=True)\n",
        "\n",
        "#excluindo entradas com dados faltantes \n",
        "df.dropna(axis=0, inplace=True)\n"
      ],
      "execution_count": 7,
      "outputs": []
    },
    {
      "cell_type": "markdown",
      "metadata": {
        "id": "iHXvvHIxaoNc"
      },
      "source": [
        "### **Q3. Qual o tipo de distribuição das variáveis?** \n",
        "Para identificar a distribuição das variáveis, vamos plotar o histograma."
      ]
    },
    {
      "cell_type": "code",
      "metadata": {
        "id": "q2wWSfeRbmBo",
        "colab": {
          "base_uri": "https://localhost:8080/",
          "height": 607
        },
        "outputId": "226c3564-93b9-498e-edd7-dc893dd31765"
      },
      "source": [
        "# plotar o histograma das variáveis numéricas\n",
        "df.hist(bins=15, figsize=(15,10));"
      ],
      "execution_count": null,
      "outputs": [
        {
          "output_type": "display_data",
          "data": {
            "image/png": "[encoded data removed]",
            "text/plain": [
              "<Figure size 1080x720 with 12 Axes>"
            ]
          },
          "metadata": {
            "tags": [],
            "needs_background": "light"
          }
        }
      ]
    },
    {
      "cell_type": "markdown",
      "metadata": {
        "id": "jMQOJAuiX5IC"
      },
      "source": [
        "### **Q4. Há *outliers* presentes?**"
      ]
    },
    {
      "cell_type": "markdown",
      "metadata": {
        "id": "07tRpBvUX9We"
      },
      "source": [
        "Pela distribuição do histograma, é possível verificar indícios da presença de *outliers*. Olhe por exemplo as variáveis `price`, `minimum_nights` e `calculated_host_listings_count`.\n",
        "\n",
        "Os valores não seguem uma distruição, e distorcem toda a representação gráfica. Para confirmar, há duas maneiras rápidas que auxiliam a detecção de *outliers*. São elas:\n",
        "\n",
        "* Resumo estatístico por meio do método `describe()`\n",
        "* Plotar `boxplots` para a variável."
      ]
    },
    {
      "cell_type": "code",
      "metadata": {
        "colab": {
          "base_uri": "https://localhost:8080/",
          "height": 297
        },
        "id": "fFgL-gB9YGyV",
        "outputId": "072d7890-cb33-4357-81bb-510f7a20f687"
      },
      "source": [
        "# ver resumo estatistico das variaveis numericas\n",
        "df[['price', 'minimum_nights', 'number_of_reviews', 'reviews_per_month',\n",
        "    'calculated_host_listings_count', 'availability_365']].describe()"
      ],
      "execution_count": null,
      "outputs": [
        {
          "output_type": "execute_result",
          "data": {
            "text/html": [
              "<div>\n",
              "<style scoped>\n",
              "    .dataframe tbody tr th:only-of-type {\n",
              "        vertical-align: middle;\n",
              "    }\n",
              "\n",
              "    .dataframe tbody tr th {\n",
              "        vertical-align: top;\n",
              "    }\n",
              "\n",
              "    .dataframe thead th {\n",
              "        text-align: right;\n",
              "    }\n",
              "</style>\n",
              "<table border=\"1\" class=\"dataframe\">\n",
              "  <thead>\n",
              "    <tr style=\"text-align: right;\">\n",
              "      <th></th>\n",
              "      <th>price</th>\n",
              "      <th>minimum_nights</th>\n",
              "      <th>number_of_reviews</th>\n",
              "      <th>reviews_per_month</th>\n",
              "      <th>calculated_host_listings_count</th>\n",
              "      <th>availability_365</th>\n",
              "    </tr>\n",
              "  </thead>\n",
              "  <tbody>\n",
              "    <tr>\n",
              "      <th>count</th>\n",
              "      <td>11197.000000</td>\n",
              "      <td>11197.000000</td>\n",
              "      <td>11197.000000</td>\n",
              "      <td>9141.000000</td>\n",
              "      <td>11197.000000</td>\n",
              "      <td>11197.000000</td>\n",
              "    </tr>\n",
              "    <tr>\n",
              "      <th>mean</th>\n",
              "      <td>12843.618826</td>\n",
              "      <td>3.739841</td>\n",
              "      <td>26.626150</td>\n",
              "      <td>1.166016</td>\n",
              "      <td>12.527552</td>\n",
              "      <td>141.485934</td>\n",
              "    </tr>\n",
              "    <tr>\n",
              "      <th>std</th>\n",
              "      <td>32150.627375</td>\n",
              "      <td>18.345848</td>\n",
              "      <td>41.647206</td>\n",
              "      <td>1.175441</td>\n",
              "      <td>14.493499</td>\n",
              "      <td>114.782571</td>\n",
              "    </tr>\n",
              "    <tr>\n",
              "      <th>min</th>\n",
              "      <td>0.000000</td>\n",
              "      <td>1.000000</td>\n",
              "      <td>0.000000</td>\n",
              "      <td>0.020000</td>\n",
              "      <td>1.000000</td>\n",
              "      <td>0.000000</td>\n",
              "    </tr>\n",
              "    <tr>\n",
              "      <th>25%</th>\n",
              "      <td>4500.000000</td>\n",
              "      <td>1.000000</td>\n",
              "      <td>1.000000</td>\n",
              "      <td>0.380000</td>\n",
              "      <td>3.000000</td>\n",
              "      <td>56.000000</td>\n",
              "    </tr>\n",
              "    <tr>\n",
              "      <th>50%</th>\n",
              "      <td>7800.000000</td>\n",
              "      <td>1.000000</td>\n",
              "      <td>10.000000</td>\n",
              "      <td>0.910000</td>\n",
              "      <td>8.000000</td>\n",
              "      <td>95.000000</td>\n",
              "    </tr>\n",
              "    <tr>\n",
              "      <th>75%</th>\n",
              "      <td>13000.000000</td>\n",
              "      <td>2.000000</td>\n",
              "      <td>34.000000</td>\n",
              "      <td>1.590000</td>\n",
              "      <td>16.000000</td>\n",
              "      <td>209.000000</td>\n",
              "    </tr>\n",
              "    <tr>\n",
              "      <th>max</th>\n",
              "      <td>1000000.000000</td>\n",
              "      <td>500.000000</td>\n",
              "      <td>479.000000</td>\n",
              "      <td>28.540000</td>\n",
              "      <td>98.000000</td>\n",
              "      <td>365.000000</td>\n",
              "    </tr>\n",
              "  </tbody>\n",
              "</table>\n",
              "</div>"
            ],
            "text/plain": [
              "                price  ...  availability_365\n",
              "count    11197.000000  ...      11197.000000\n",
              "mean     12843.618826  ...        141.485934\n",
              "std      32150.627375  ...        114.782571\n",
              "min          0.000000  ...          0.000000\n",
              "25%       4500.000000  ...         56.000000\n",
              "50%       7800.000000  ...         95.000000\n",
              "75%      13000.000000  ...        209.000000\n",
              "max    1000000.000000  ...        365.000000\n",
              "\n",
              "[8 rows x 6 columns]"
            ]
          },
          "metadata": {
            "tags": []
          },
          "execution_count": 18
        }
      ]
    },
    {
      "cell_type": "markdown",
      "metadata": {
        "id": "rAwnplvgYjl9"
      },
      "source": [
        "Olhando o resumo estatístico acima, podemos confirmar algumas hipóteses como:\n",
        "\n",
        "* A variável `price` possui 75% do valor abaixo de 13000, porém seu valor máximo é 1000000.\n",
        "* O valor max da quantidade mínima de noites (`minimum_nights`) está acima de 365 dias no ano. O que e algo estranho de se pensar para o AirBnB\n",
        "\n",
        "#### Boxplot para minimum_nights"
      ]
    },
    {
      "cell_type": "code",
      "metadata": {
        "colab": {
          "base_uri": "https://localhost:8080/",
          "height": 262
        },
        "id": "0Q5Mew-IY7dD",
        "outputId": "deb325bd-6c76-46df-e276-86446c6c9d2e"
      },
      "source": [
        "#minimum_nights\n",
        "\n",
        "df.minimum_nights.plot(kind='box', vert=False, figsize=(15,3))\n",
        "plt.show()\n",
        "\n",
        "#ver quantidade de valores acima de 30 dias para o minimum_nights\n",
        "print('minimum_nights: valores acima de 30:')\n",
        "print(\"{} entradas\".format(len(df.minimum_nights > 30)))\n",
        "print(\"{:.4f}%\".format((len(df[df.minimum_nights > 30]) / df.shape[0])*100))"
      ],
      "execution_count": null,
      "outputs": [
        {
          "output_type": "display_data",
          "data": {
            "image/png": "[encoded data removed]",
            "text/plain": [
              "<Figure size 1080x216 with 1 Axes>"
            ]
          },
          "metadata": {
            "tags": [],
            "needs_background": "light"
          }
        },
        {
          "output_type": "stream",
          "text": [
            "minimum_nights: valores acima de 30:\n",
            "11197 entradas\n",
            "0.5716%\n"
          ],
          "name": "stdout"
        }
      ]
    },
    {
      "cell_type": "markdown",
      "metadata": {
        "id": "iTvEibsTZx3k"
      },
      "source": [
        "#### Boxplot para price"
      ]
    },
    {
      "cell_type": "code",
      "metadata": {
        "colab": {
          "base_uri": "https://localhost:8080/",
          "height": 292
        },
        "id": "y3He8WjaZ1QL",
        "outputId": "47b5f0af-1b31-44f7-b269-1a6acea75ac0"
      },
      "source": [
        "#price \n",
        "\n",
        "df.price.plot(kind='box', vert=False, figsize=(15,3))\n",
        "plt.show()\n",
        "\n",
        "# ver quantidade de valores acima de 3000 para price\n",
        "print(\"\\nprice: valores acima de 25000\")\n",
        "print(\"{} entradas\".format(len(df[df.price > 25000])))\n",
        "print(\"{:.4f}%\".format((len(df[df.price > 25000]) / df.shape[0])*100))"
      ],
      "execution_count": null,
      "outputs": [
        {
          "output_type": "display_data",
          "data": {
            "image/png": "[encoded data removed]",
            "text/plain": [
              "<Figure size 1080x216 with 1 Axes>"
            ]
          },
          "metadata": {
            "tags": [],
            "needs_background": "light"
          }
        },
        {
          "output_type": "stream",
          "text": [
            "\n",
            "price: valores acima de 25000\n",
            "967 entradas\n",
            "8.6362%\n"
          ],
          "name": "stdout"
        }
      ]
    },
    {
      "cell_type": "markdown",
      "metadata": {
        "id": "0VR2VI-4zzSX"
      },
      "source": [
        "#### Definindo o range dos outliers que serao limpos\n"
      ]
    },
    {
      "cell_type": "markdown",
      "metadata": {
        "id": "t04exR2s0HNV"
      },
      "source": [
        "Verificando os histogramas e os boxplots, agora iremos definir quais serao os dados a serem limpados de nosso dataset.\n",
        "Para trata-los vamos seguir os seguintes passos:\n",
        "\n",
        "* Definir o Q1 e Q3 para as variaveis que serao limpas\n",
        "* Calcular o IQR para as variaveis\n",
        "* Definir o limite superior e inferior para cortar os outliers\n",
        "* Remover os outliers"
      ]
    },
    {
      "cell_type": "code",
      "metadata": {
        "colab": {
          "base_uri": "https://localhost:8080/"
        },
        "id": "Awb689kA0oZW",
        "outputId": "69cfde03-6e74-4a55-9765-4dc9a5633db4"
      },
      "source": [
        "#identificando os outliers para as variavel price\n",
        "q1_price = df.price.quantile(.25)\n",
        "q3_price = df.price.quantile(.75)\n",
        "IQR_price = q3_price - q1_price\n",
        "print('IQR da variavel price', IQR_price)\n",
        "\n",
        "#definindo os limites\n",
        "sup_price = q3_price + 1.5 * IQR_price\n",
        "inf_price = q3_price - 1.5 * IQR_price\n",
        "\n",
        "print('Limite superior de price:', sup_price)\n",
        "print('Limite inferior de price:', inf_price)"
      ],
      "execution_count": 9,
      "outputs": [
        {
          "output_type": "stream",
          "text": [
            "IQR da variavel price 8500.0\n",
            "Limite superior de price: 25750.0\n",
            "Limite inferior de price: 250.0\n"
          ],
          "name": "stdout"
        }
      ]
    },
    {
      "cell_type": "code",
      "metadata": {
        "colab": {
          "base_uri": "https://localhost:8080/"
        },
        "id": "t2VVe7cu1jnW",
        "outputId": "c2214315-94c7-4a22-b0a1-d0674ebcb623"
      },
      "source": [
        "#identificando os outliers para as variavel price\n",
        "q1_minimum_nights = df.minimum_nights.quantile(.25)\n",
        "q3_minimum_nights = df.minimum_nights.quantile(.75)\n",
        "IQR_minimum_nights = q3_minimum_nights - q1_minimum_nights\n",
        "print('IQR da variavel minimum_nights', IQR_minimum_nights)\n",
        "\n",
        "#definindo os limites\n",
        "sup_minimum_nights = q3_minimum_nights + 1.5 * IQR_minimum_nights\n",
        "inf_minimum_nights = q3_minimum_nights - 1.5 * IQR_minimum_nights\n",
        "\n",
        "print('Limite superior de minimum_nights:', sup_minimum_nights)\n",
        "print('Limite inferior de minimum_nights:', inf_minimum_nights)"
      ],
      "execution_count": 10,
      "outputs": [
        {
          "output_type": "stream",
          "text": [
            "IQR da variavel minimum_nights 1.0\n",
            "Limite superior de minimum_nights: 3.5\n",
            "Limite inferior de minimum_nights: 0.5\n"
          ],
          "name": "stdout"
        }
      ]
    },
    {
      "cell_type": "markdown",
      "metadata": {
        "id": "HGxqu1PWbYSh"
      },
      "source": [
        "#### Histogramas sem *outliers*\n",
        "\n",
        "Já que identificamos *outliers* nas variáveis `price` e `minimum_nights`, vamos agora limpar o *DataFrame* delas e plotar novamente o histograma."
      ]
    },
    {
      "cell_type": "code",
      "metadata": {
        "colab": {
          "base_uri": "https://localhost:8080/",
          "height": 607
        },
        "id": "MSQ3VYwNbcHg",
        "outputId": "fd8dd700-6cc1-4094-caed-b667d8ba94ed"
      },
      "source": [
        "# remover os *outliers* em um novo DataFrame\n",
        "\n",
        "df_clean = df.copy()\n",
        "df_clean.drop(df_clean[df_clean.price > 25750.0].index, axis=0, inplace=True)\n",
        "df_clean.drop(df_clean[df_clean.price == 0.0].index, axis=0, inplace=True)\n",
        "df_clean.drop(df_clean[df_clean.minimum_nights > 2].index, axis=0, inplace=True)\n",
        "\n",
        "\n",
        "#plotar o histograma para as variaveis numericas\n",
        "df_clean.hist(bins=15, figsize=(15,10));"
      ],
      "execution_count": 18,
      "outputs": [
        {
          "output_type": "display_data",
          "data": {
            "image/png": "[encoded data removed]",
            "text/plain": [
              "<Figure size 1080x720 with 9 Axes>"
            ]
          },
          "metadata": {
            "tags": [],
            "needs_background": "light"
          }
        }
      ]
    },
    {
      "cell_type": "markdown",
      "metadata": {
        "id": "tQFeW3HCdP3w"
      },
      "source": [
        "### **Q4. Qual a correlação existente entre as variáveis**\n",
        "\n",
        "Correlação significa que existe uma relação entre duas coisas. No nosso contexto, estamos buscando relação ou semelhança entre duas variáveis.\n",
        "\n",
        "Essa relação pode ser medida, e é função do coeficiente de correlação estabelecer qual a intensidade dela. Para identificar as correlações existentes entre as variáveis de interesse, vou:\n",
        "\n",
        "* Criar uma matriz de correlação\n",
        "* Gerar um *heatmap* a partir dessa matriz, usando a biblioteca `seaborn`"
      ]
    },
    {
      "cell_type": "code",
      "metadata": {
        "colab": {
          "base_uri": "https://localhost:8080/",
          "height": 235
        },
        "id": "nYsGjBXodRKE",
        "outputId": "10b2e334-7d25-47f0-8282-a0347d58eb9b"
      },
      "source": [
        "# criar uma matriz de correlação\n",
        "corr = df_clean[['price', 'minimum_nights', 'number_of_reviews', 'reviews_per_month',\n",
        "    'calculated_host_listings_count', 'availability_365']].corr()\n",
        "\n",
        "display(corr)"
      ],
      "execution_count": null,
      "outputs": [
        {
          "output_type": "display_data",
          "data": {
            "text/html": [
              "<div>\n",
              "<style scoped>\n",
              "    .dataframe tbody tr th:only-of-type {\n",
              "        vertical-align: middle;\n",
              "    }\n",
              "\n",
              "    .dataframe tbody tr th {\n",
              "        vertical-align: top;\n",
              "    }\n",
              "\n",
              "    .dataframe thead th {\n",
              "        text-align: right;\n",
              "    }\n",
              "</style>\n",
              "<table border=\"1\" class=\"dataframe\">\n",
              "  <thead>\n",
              "    <tr style=\"text-align: right;\">\n",
              "      <th></th>\n",
              "      <th>price</th>\n",
              "      <th>minimum_nights</th>\n",
              "      <th>number_of_reviews</th>\n",
              "      <th>reviews_per_month</th>\n",
              "      <th>calculated_host_listings_count</th>\n",
              "      <th>availability_365</th>\n",
              "    </tr>\n",
              "  </thead>\n",
              "  <tbody>\n",
              "    <tr>\n",
              "      <th>price</th>\n",
              "      <td>1.000000</td>\n",
              "      <td>-0.043162</td>\n",
              "      <td>-0.001563</td>\n",
              "      <td>0.035195</td>\n",
              "      <td>-0.183871</td>\n",
              "      <td>-0.003248</td>\n",
              "    </tr>\n",
              "    <tr>\n",
              "      <th>minimum_nights</th>\n",
              "      <td>-0.043162</td>\n",
              "      <td>1.000000</td>\n",
              "      <td>-0.045886</td>\n",
              "      <td>-0.109960</td>\n",
              "      <td>-0.024063</td>\n",
              "      <td>-0.013872</td>\n",
              "    </tr>\n",
              "    <tr>\n",
              "      <th>number_of_reviews</th>\n",
              "      <td>-0.001563</td>\n",
              "      <td>-0.045886</td>\n",
              "      <td>1.000000</td>\n",
              "      <td>0.675916</td>\n",
              "      <td>-0.155579</td>\n",
              "      <td>0.040445</td>\n",
              "    </tr>\n",
              "    <tr>\n",
              "      <th>reviews_per_month</th>\n",
              "      <td>0.035195</td>\n",
              "      <td>-0.109960</td>\n",
              "      <td>0.675916</td>\n",
              "      <td>1.000000</td>\n",
              "      <td>-0.134940</td>\n",
              "      <td>-0.010076</td>\n",
              "    </tr>\n",
              "    <tr>\n",
              "      <th>calculated_host_listings_count</th>\n",
              "      <td>-0.183871</td>\n",
              "      <td>-0.024063</td>\n",
              "      <td>-0.155579</td>\n",
              "      <td>-0.134940</td>\n",
              "      <td>1.000000</td>\n",
              "      <td>0.081466</td>\n",
              "    </tr>\n",
              "    <tr>\n",
              "      <th>availability_365</th>\n",
              "      <td>-0.003248</td>\n",
              "      <td>-0.013872</td>\n",
              "      <td>0.040445</td>\n",
              "      <td>-0.010076</td>\n",
              "      <td>0.081466</td>\n",
              "      <td>1.000000</td>\n",
              "    </tr>\n",
              "  </tbody>\n",
              "</table>\n",
              "</div>"
            ],
            "text/plain": [
              "                                   price  ...  availability_365\n",
              "price                           1.000000  ...         -0.003248\n",
              "minimum_nights                 -0.043162  ...         -0.013872\n",
              "number_of_reviews              -0.001563  ...          0.040445\n",
              "reviews_per_month               0.035195  ...         -0.010076\n",
              "calculated_host_listings_count -0.183871  ...          0.081466\n",
              "availability_365               -0.003248  ...          1.000000\n",
              "\n",
              "[6 rows x 6 columns]"
            ]
          },
          "metadata": {
            "tags": []
          }
        }
      ]
    },
    {
      "cell_type": "code",
      "metadata": {
        "colab": {
          "base_uri": "https://localhost:8080/",
          "height": 411
        },
        "id": "C4kK76XFdWjB",
        "outputId": "dd2d3b63-ef10-480b-ae2e-d330145b151f"
      },
      "source": [
        "sns.heatmap(corr, cmap='RdBu', fmt='.2f', square=True, linecolor='white', annot=True);"
      ],
      "execution_count": null,
      "outputs": [
        {
          "output_type": "display_data",
          "data": {
            "image/png": "[encoded data removed]",
            "text/plain": [
              "<Figure size 432x288 with 2 Axes>"
            ]
          },
          "metadata": {
            "tags": [],
            "needs_background": "light"
          }
        }
      ]
    },
    {
      "cell_type": "markdown",
      "metadata": {
        "id": "7x4aw1j5wNmn"
      },
      "source": [
        "### **Q4. Qual a média dos preços de aluguel?**\n",
        "\n",
        "A coluna da variavel `price` nos mostra o preco do aluguel daquele imovel, iremos checar a media dos precos para termos uma nocao de valores"
      ]
    },
    {
      "cell_type": "code",
      "metadata": {
        "id": "ff-8gUahLk-C",
        "colab": {
          "base_uri": "https://localhost:8080/"
        },
        "outputId": "93f99d4c-ccbe-4c9c-c63c-3d92e9aea6ad"
      },
      "source": [
        "# ver a média da coluna `price``\n",
        "\n",
        "df_clean.price.mean()"
      ],
      "execution_count": 19,
      "outputs": [
        {
          "output_type": "execute_result",
          "data": {
            "text/plain": [
              "8571.239836448598"
            ]
          },
          "metadata": {
            "tags": []
          },
          "execution_count": 19
        }
      ]
    },
    {
      "cell_type": "markdown",
      "metadata": {
        "id": "7b6RMWpuHKN-"
      },
      "source": [
        "### **Q5. Qual o tipo de imóvel mais alugado no Airbnb?**\n",
        "\n",
        "A coluna da variável `room_type` indica o tipo de locação que está anunciada no Airbnb. Se você já alugou no site, sabe que existem opções de apartamentos/casas inteiras, apenas o aluguel de um quarto ou mesmo dividir o quarto com outras pessoas.\n",
        "\n",
        "Vamos contar a quantidade de ocorrências de cada tipo de aluguel, usando o método `value_counts()`."
      ]
    },
    {
      "cell_type": "code",
      "metadata": {
        "id": "ueLPNWvPHgfB",
        "colab": {
          "base_uri": "https://localhost:8080/"
        },
        "outputId": "5c140355-53fc-4f70-f0b6-3d839dd94675"
      },
      "source": [
        "# mostrar a quantidade de cada tipo de imóvel disponível\n",
        "df_clean.room_type.value_counts()"
      ],
      "execution_count": 20,
      "outputs": [
        {
          "output_type": "execute_result",
          "data": {
            "text/plain": [
              "Entire home/apt    5906\n",
              "Private room       1937\n",
              "Hotel room          398\n",
              "Shared room         319\n",
              "Name: room_type, dtype: int64"
            ]
          },
          "metadata": {
            "tags": []
          },
          "execution_count": 20
        }
      ]
    },
    {
      "cell_type": "code",
      "metadata": {
        "id": "EvwoO-XAHhIm",
        "colab": {
          "base_uri": "https://localhost:8080/"
        },
        "outputId": "befbcc11-98cc-4992-d822-513fe462a047"
      },
      "source": [
        "# mostrar a porcentagem de cada tipo de imóvel disponível\n",
        "df_clean.room_type.value_counts() / df_clean.shape[0]"
      ],
      "execution_count": 21,
      "outputs": [
        {
          "output_type": "execute_result",
          "data": {
            "text/plain": [
              "Entire home/apt    0.689953\n",
              "Private room       0.226285\n",
              "Hotel room         0.046495\n",
              "Shared room        0.037266\n",
              "Name: room_type, dtype: float64"
            ]
          },
          "metadata": {
            "tags": []
          },
          "execution_count": 21
        }
      ]
    },
    {
      "cell_type": "markdown",
      "metadata": {
        "id": "deCoLuCWe-k7"
      },
      "source": [
        "Podemos ver que a maioria dos imoveis para alugar sao casas ou apartamentos inteiros seguido de quartos privados e quartos de hotel."
      ]
    },
    {
      "cell_type": "markdown",
      "metadata": {
        "id": "MFa5NbnLJMcd"
      },
      "source": [
        "### **Q6. Qual a localidade mais cara do dataset?**\n",
        "\n",
        "Uma maneira de se verificar uma variável em função da outra é usando `groupby()`. Neste caso, iremos comparar os bairros (*neighbourhoods*) a partir do preço de locação."
      ]
    },
    {
      "cell_type": "code",
      "metadata": {
        "id": "MD_xa143JZpi",
        "colab": {
          "base_uri": "https://localhost:8080/"
        },
        "outputId": "3e4f364a-1f72-4f29-e167-ff7d7673c9ad"
      },
      "source": [
        "# ver preços por bairros, na média\n",
        "df_clean.groupby(['neighbourhood']).price.mean().sort_values(ascending=False)[:10]"
      ],
      "execution_count": 22,
      "outputs": [
        {
          "output_type": "execute_result",
          "data": {
            "text/plain": [
              "neighbourhood\n",
              "Okutama Machi    17333.333333\n",
              "Kodaira Shi      11768.500000\n",
              "Komae Shi        11500.000000\n",
              "Minato Ku        10446.654762\n",
              "Shibuya Ku        9849.336493\n",
              "Koganei Shi       9287.500000\n",
              "Shinjuku Ku       9245.673433\n",
              "Chiyoda Ku        9170.176471\n",
              "Taito Ku          8948.288520\n",
              "Arakawa Ku        8843.600000\n",
              "Name: price, dtype: float64"
            ]
          },
          "metadata": {
            "tags": []
          },
          "execution_count": 22
        }
      ]
    },
    {
      "cell_type": "code",
      "metadata": {
        "colab": {
          "base_uri": "https://localhost:8080/",
          "height": 312
        },
        "id": "9G-XAR0Mfmz7",
        "outputId": "93fd7893-bfdd-4bd3-b040-fa2afc5c2668"
      },
      "source": [
        "#ver quantidade de imoveis em Okutama Machi\n",
        "\n",
        "print(df_clean[df_clean.neighbourhood == \"Okutama Machi\"].shape)\n",
        "\n",
        "#ver as entradas de Okutama Machi\n",
        "\n",
        "df_clean[df_clean.neighbourhood == \"Okutama Machi\"]\n"
      ],
      "execution_count": 26,
      "outputs": [
        {
          "output_type": "stream",
          "text": [
            "(3, 13)\n"
          ],
          "name": "stdout"
        },
        {
          "output_type": "execute_result",
          "data": {
            "text/html": [
              "<div>\n",
              "<style scoped>\n",
              "    .dataframe tbody tr th:only-of-type {\n",
              "        vertical-align: middle;\n",
              "    }\n",
              "\n",
              "    .dataframe tbody tr th {\n",
              "        vertical-align: top;\n",
              "    }\n",
              "\n",
              "    .dataframe thead th {\n",
              "        text-align: right;\n",
              "    }\n",
              "</style>\n",
              "<table border=\"1\" class=\"dataframe\">\n",
              "  <thead>\n",
              "    <tr style=\"text-align: right;\">\n",
              "      <th></th>\n",
              "      <th>id</th>\n",
              "      <th>name</th>\n",
              "      <th>host_id</th>\n",
              "      <th>host_name</th>\n",
              "      <th>neighbourhood</th>\n",
              "      <th>latitude</th>\n",
              "      <th>longitude</th>\n",
              "      <th>room_type</th>\n",
              "      <th>price</th>\n",
              "      <th>minimum_nights</th>\n",
              "      <th>number_of_reviews</th>\n",
              "      <th>calculated_host_listings_count</th>\n",
              "      <th>availability_365</th>\n",
              "    </tr>\n",
              "  </thead>\n",
              "  <tbody>\n",
              "    <tr>\n",
              "      <th>1685</th>\n",
              "      <td>22627182</td>\n",
              "      <td>渓谷の傍の別荘 - Tranquil Villa Nearby a Beautiful Va...</td>\n",
              "      <td>59835166</td>\n",
              "      <td>Kazuya</td>\n",
              "      <td>Okutama Machi</td>\n",
              "      <td>35.81232</td>\n",
              "      <td>139.12936</td>\n",
              "      <td>Entire home/apt</td>\n",
              "      <td>23000</td>\n",
              "      <td>1</td>\n",
              "      <td>97</td>\n",
              "      <td>1</td>\n",
              "      <td>166</td>\n",
              "    </tr>\n",
              "    <tr>\n",
              "      <th>7717</th>\n",
              "      <td>41015004</td>\n",
              "      <td>New opening in 2020!! OKUTAMA+</td>\n",
              "      <td>298916888</td>\n",
              "      <td>Kaito</td>\n",
              "      <td>Okutama Machi</td>\n",
              "      <td>35.81175</td>\n",
              "      <td>139.15732</td>\n",
              "      <td>Shared room</td>\n",
              "      <td>5000</td>\n",
              "      <td>1</td>\n",
              "      <td>31</td>\n",
              "      <td>2</td>\n",
              "      <td>71</td>\n",
              "    </tr>\n",
              "    <tr>\n",
              "      <th>8252</th>\n",
              "      <td>41967911</td>\n",
              "      <td>2020年新規オープン！wifi完備！OKUTAMA+教室に泊まろう個室貸切プラン</td>\n",
              "      <td>298916888</td>\n",
              "      <td>Kaito</td>\n",
              "      <td>Okutama Machi</td>\n",
              "      <td>35.81258</td>\n",
              "      <td>139.15654</td>\n",
              "      <td>Private room</td>\n",
              "      <td>24000</td>\n",
              "      <td>1</td>\n",
              "      <td>7</td>\n",
              "      <td>2</td>\n",
              "      <td>87</td>\n",
              "    </tr>\n",
              "  </tbody>\n",
              "</table>\n",
              "</div>"
            ],
            "text/plain": [
              "            id  ... availability_365\n",
              "1685  22627182  ...              166\n",
              "7717  41015004  ...               71\n",
              "8252  41967911  ...               87\n",
              "\n",
              "[3 rows x 13 columns]"
            ]
          },
          "metadata": {
            "tags": []
          },
          "execution_count": 26
        }
      ]
    },
    {
      "cell_type": "code",
      "metadata": {
        "colab": {
          "base_uri": "https://localhost:8080/",
          "height": 1000
        },
        "id": "IeFH-qPig3GA",
        "outputId": "871f7859-1b41-484d-d450-d097a0c87889"
      },
      "source": [
        "#ver quantiadde de imoveis em Komae Shi\n",
        "\n",
        "print(df_clean[df_clean.neighbourhood == \"Shibuya Ku\"].shape)\n",
        "\n",
        "#ver as entradas de Komae Shi\n",
        "\n",
        "df_clean[df_clean.neighbourhood == \"Shibuya Ku\"]\n"
      ],
      "execution_count": 32,
      "outputs": [
        {
          "output_type": "stream",
          "text": [
            "(422, 13)\n"
          ],
          "name": "stdout"
        },
        {
          "output_type": "execute_result",
          "data": {
            "text/html": [
              "<div>\n",
              "<style scoped>\n",
              "    .dataframe tbody tr th:only-of-type {\n",
              "        vertical-align: middle;\n",
              "    }\n",
              "\n",
              "    .dataframe tbody tr th {\n",
              "        vertical-align: top;\n",
              "    }\n",
              "\n",
              "    .dataframe thead th {\n",
              "        text-align: right;\n",
              "    }\n",
              "</style>\n",
              "<table border=\"1\" class=\"dataframe\">\n",
              "  <thead>\n",
              "    <tr style=\"text-align: right;\">\n",
              "      <th></th>\n",
              "      <th>id</th>\n",
              "      <th>name</th>\n",
              "      <th>host_id</th>\n",
              "      <th>host_name</th>\n",
              "      <th>neighbourhood</th>\n",
              "      <th>latitude</th>\n",
              "      <th>longitude</th>\n",
              "      <th>room_type</th>\n",
              "      <th>price</th>\n",
              "      <th>minimum_nights</th>\n",
              "      <th>number_of_reviews</th>\n",
              "      <th>calculated_host_listings_count</th>\n",
              "      <th>availability_365</th>\n",
              "    </tr>\n",
              "  </thead>\n",
              "  <tbody>\n",
              "    <tr>\n",
              "      <th>64</th>\n",
              "      <td>3838856</td>\n",
              "      <td>SHINJUKU ★Designer Pencil House★ Sanitized</td>\n",
              "      <td>4626879</td>\n",
              "      <td>Sam</td>\n",
              "      <td>Shibuya Ku</td>\n",
              "      <td>35.68245</td>\n",
              "      <td>139.69009</td>\n",
              "      <td>Entire home/apt</td>\n",
              "      <td>15235</td>\n",
              "      <td>1</td>\n",
              "      <td>171</td>\n",
              "      <td>7</td>\n",
              "      <td>286</td>\n",
              "    </tr>\n",
              "    <tr>\n",
              "      <th>93</th>\n",
              "      <td>4825779</td>\n",
              "      <td>Japanese Modern Apt / 2 Stops to Shinjuku (#1)</td>\n",
              "      <td>24812892</td>\n",
              "      <td>Mao</td>\n",
              "      <td>Shibuya Ku</td>\n",
              "      <td>35.67748</td>\n",
              "      <td>139.68059</td>\n",
              "      <td>Entire home/apt</td>\n",
              "      <td>5044</td>\n",
              "      <td>1</td>\n",
              "      <td>229</td>\n",
              "      <td>1</td>\n",
              "      <td>90</td>\n",
              "    </tr>\n",
              "    <tr>\n",
              "      <th>100</th>\n",
              "      <td>4925503</td>\n",
              "      <td>SHIBUYA SHINJUKU  Hatagaya Station 5 minutes#103</td>\n",
              "      <td>25370510</td>\n",
              "      <td>Mitsuko</td>\n",
              "      <td>Shibuya Ku</td>\n",
              "      <td>35.67923</td>\n",
              "      <td>139.67571</td>\n",
              "      <td>Entire home/apt</td>\n",
              "      <td>3271</td>\n",
              "      <td>1</td>\n",
              "      <td>160</td>\n",
              "      <td>6</td>\n",
              "      <td>237</td>\n",
              "    </tr>\n",
              "    <tr>\n",
              "      <th>102</th>\n",
              "      <td>4926317</td>\n",
              "      <td>#102 SHIBUYA SHINJUKU 幡ヶ谷駅徒歩5分 観光ショッピングに便利！</td>\n",
              "      <td>25370510</td>\n",
              "      <td>Mitsuko</td>\n",
              "      <td>Shibuya Ku</td>\n",
              "      <td>35.68068</td>\n",
              "      <td>139.67530</td>\n",
              "      <td>Entire home/apt</td>\n",
              "      <td>8000</td>\n",
              "      <td>1</td>\n",
              "      <td>269</td>\n",
              "      <td>6</td>\n",
              "      <td>87</td>\n",
              "    </tr>\n",
              "    <tr>\n",
              "      <th>103</th>\n",
              "      <td>4926426</td>\n",
              "      <td>#203 新宿/渋谷　テレワーク/受験生/NURO光 FREE WIFI/感染対策済み/駅近</td>\n",
              "      <td>25370510</td>\n",
              "      <td>Mitsuko</td>\n",
              "      <td>Shibuya Ku</td>\n",
              "      <td>35.67969</td>\n",
              "      <td>139.67656</td>\n",
              "      <td>Entire home/apt</td>\n",
              "      <td>8000</td>\n",
              "      <td>1</td>\n",
              "      <td>227</td>\n",
              "      <td>6</td>\n",
              "      <td>227</td>\n",
              "    </tr>\n",
              "    <tr>\n",
              "      <th>...</th>\n",
              "      <td>...</td>\n",
              "      <td>...</td>\n",
              "      <td>...</td>\n",
              "      <td>...</td>\n",
              "      <td>...</td>\n",
              "      <td>...</td>\n",
              "      <td>...</td>\n",
              "      <td>...</td>\n",
              "      <td>...</td>\n",
              "      <td>...</td>\n",
              "      <td>...</td>\n",
              "      <td>...</td>\n",
              "      <td>...</td>\n",
              "    </tr>\n",
              "    <tr>\n",
              "      <th>11036</th>\n",
              "      <td>47999492</td>\n",
              "      <td>新宿至近/西新宿五丁目駅徒歩8分/WIFI有/快適/閑静/便利/コインランドリー周辺に多数有...</td>\n",
              "      <td>386939047</td>\n",
              "      <td>康典</td>\n",
              "      <td>Shibuya Ku</td>\n",
              "      <td>35.68652</td>\n",
              "      <td>139.67763</td>\n",
              "      <td>Entire home/apt</td>\n",
              "      <td>5000</td>\n",
              "      <td>1</td>\n",
              "      <td>0</td>\n",
              "      <td>3</td>\n",
              "      <td>165</td>\n",
              "    </tr>\n",
              "    <tr>\n",
              "      <th>11038</th>\n",
              "      <td>47999933</td>\n",
              "      <td>西新宿五丁目徒歩8分/WIFI/便利/閑静/周辺にコインランドリー多数/203</td>\n",
              "      <td>386939047</td>\n",
              "      <td>康典</td>\n",
              "      <td>Shibuya Ku</td>\n",
              "      <td>35.68668</td>\n",
              "      <td>139.67985</td>\n",
              "      <td>Entire home/apt</td>\n",
              "      <td>5000</td>\n",
              "      <td>1</td>\n",
              "      <td>0</td>\n",
              "      <td>3</td>\n",
              "      <td>154</td>\n",
              "    </tr>\n",
              "    <tr>\n",
              "      <th>11044</th>\n",
              "      <td>48048503</td>\n",
              "      <td>【ROOM404】SHIBUYA AREA! 5MIN STN! MAX 4PPL! 1R ...</td>\n",
              "      <td>207693509</td>\n",
              "      <td>健二</td>\n",
              "      <td>Shibuya Ku</td>\n",
              "      <td>35.65983</td>\n",
              "      <td>139.69673</td>\n",
              "      <td>Entire home/apt</td>\n",
              "      <td>9143</td>\n",
              "      <td>1</td>\n",
              "      <td>0</td>\n",
              "      <td>8</td>\n",
              "      <td>164</td>\n",
              "    </tr>\n",
              "    <tr>\n",
              "      <th>11049</th>\n",
              "      <td>48079895</td>\n",
              "      <td>和漢洋折衷(わかんようせっちゅう)</td>\n",
              "      <td>305354548</td>\n",
              "      <td>Tomoyuki</td>\n",
              "      <td>Shibuya Ku</td>\n",
              "      <td>35.65694</td>\n",
              "      <td>139.71056</td>\n",
              "      <td>Entire home/apt</td>\n",
              "      <td>10000</td>\n",
              "      <td>1</td>\n",
              "      <td>0</td>\n",
              "      <td>7</td>\n",
              "      <td>31</td>\n",
              "    </tr>\n",
              "    <tr>\n",
              "      <th>11083</th>\n",
              "      <td>48215025</td>\n",
              "      <td>ノスタルジー（郷愁）</td>\n",
              "      <td>305354548</td>\n",
              "      <td>Tomoyuki</td>\n",
              "      <td>Shibuya Ku</td>\n",
              "      <td>35.65854</td>\n",
              "      <td>139.70921</td>\n",
              "      <td>Private room</td>\n",
              "      <td>11143</td>\n",
              "      <td>1</td>\n",
              "      <td>0</td>\n",
              "      <td>7</td>\n",
              "      <td>32</td>\n",
              "    </tr>\n",
              "  </tbody>\n",
              "</table>\n",
              "<p>422 rows × 13 columns</p>\n",
              "</div>"
            ],
            "text/plain": [
              "             id  ... availability_365\n",
              "64      3838856  ...              286\n",
              "93      4825779  ...               90\n",
              "100     4925503  ...              237\n",
              "102     4926317  ...               87\n",
              "103     4926426  ...              227\n",
              "...         ...  ...              ...\n",
              "11036  47999492  ...              165\n",
              "11038  47999933  ...              154\n",
              "11044  48048503  ...              164\n",
              "11049  48079895  ...               31\n",
              "11083  48215025  ...               32\n",
              "\n",
              "[422 rows x 13 columns]"
            ]
          },
          "metadata": {
            "tags": []
          },
          "execution_count": 32
        }
      ]
    },
    {
      "cell_type": "code",
      "metadata": {
        "colab": {
          "base_uri": "https://localhost:8080/",
          "height": 813
        },
        "id": "zgrL8sjPg-Zr",
        "outputId": "1c038ed2-28e2-4096-8e4d-4932a15f2ccc"
      },
      "source": [
        "#ver quantidade de imoveis em Kodaira Shi \n",
        "print(df_clean[df_clean.neighbourhood == \"Minato Ku \"].shape)\n",
        "\n",
        "#ver as entradas de Kodaira Shi \n",
        "\n",
        "df_clean[df_clean.neighbourhood == \"Minato Ku\"]"
      ],
      "execution_count": 31,
      "outputs": [
        {
          "output_type": "stream",
          "text": [
            "(0, 13)\n"
          ],
          "name": "stdout"
        },
        {
          "output_type": "execute_result",
          "data": {
            "text/html": [
              "<div>\n",
              "<style scoped>\n",
              "    .dataframe tbody tr th:only-of-type {\n",
              "        vertical-align: middle;\n",
              "    }\n",
              "\n",
              "    .dataframe tbody tr th {\n",
              "        vertical-align: top;\n",
              "    }\n",
              "\n",
              "    .dataframe thead th {\n",
              "        text-align: right;\n",
              "    }\n",
              "</style>\n",
              "<table border=\"1\" class=\"dataframe\">\n",
              "  <thead>\n",
              "    <tr style=\"text-align: right;\">\n",
              "      <th></th>\n",
              "      <th>id</th>\n",
              "      <th>name</th>\n",
              "      <th>host_id</th>\n",
              "      <th>host_name</th>\n",
              "      <th>neighbourhood</th>\n",
              "      <th>latitude</th>\n",
              "      <th>longitude</th>\n",
              "      <th>room_type</th>\n",
              "      <th>price</th>\n",
              "      <th>minimum_nights</th>\n",
              "      <th>number_of_reviews</th>\n",
              "      <th>calculated_host_listings_count</th>\n",
              "      <th>availability_365</th>\n",
              "    </tr>\n",
              "  </thead>\n",
              "  <tbody>\n",
              "    <tr>\n",
              "      <th>191</th>\n",
              "      <td>6803014</td>\n",
              "      <td>Mid-Tokyo, Nature-Rich - Designer\"Tiny\" House</td>\n",
              "      <td>35614067</td>\n",
              "      <td>Kan</td>\n",
              "      <td>Minato Ku</td>\n",
              "      <td>35.63463</td>\n",
              "      <td>139.72773</td>\n",
              "      <td>Entire home/apt</td>\n",
              "      <td>19500</td>\n",
              "      <td>2</td>\n",
              "      <td>138</td>\n",
              "      <td>1</td>\n",
              "      <td>146</td>\n",
              "    </tr>\n",
              "    <tr>\n",
              "      <th>194</th>\n",
              "      <td>6815505</td>\n",
              "      <td>Omotesando House.表参道/南青山.</td>\n",
              "      <td>35684204</td>\n",
              "      <td>Junko</td>\n",
              "      <td>Minato Ku</td>\n",
              "      <td>35.66494</td>\n",
              "      <td>139.71890</td>\n",
              "      <td>Entire home/apt</td>\n",
              "      <td>13800</td>\n",
              "      <td>2</td>\n",
              "      <td>130</td>\n",
              "      <td>2</td>\n",
              "      <td>189</td>\n",
              "    </tr>\n",
              "    <tr>\n",
              "      <th>215</th>\n",
              "      <td>7227038</td>\n",
              "      <td>Azabu- spacious apt,Hammock♥</td>\n",
              "      <td>37836517</td>\n",
              "      <td>Akari</td>\n",
              "      <td>Minato Ku</td>\n",
              "      <td>35.65584</td>\n",
              "      <td>139.73425</td>\n",
              "      <td>Entire home/apt</td>\n",
              "      <td>18500</td>\n",
              "      <td>1</td>\n",
              "      <td>208</td>\n",
              "      <td>1</td>\n",
              "      <td>333</td>\n",
              "    </tr>\n",
              "    <tr>\n",
              "      <th>249</th>\n",
              "      <td>7948752</td>\n",
              "      <td>Omotesando! Two dobble beds!</td>\n",
              "      <td>35684204</td>\n",
              "      <td>Junko</td>\n",
              "      <td>Minato Ku</td>\n",
              "      <td>35.66520</td>\n",
              "      <td>139.71831</td>\n",
              "      <td>Entire home/apt</td>\n",
              "      <td>13800</td>\n",
              "      <td>2</td>\n",
              "      <td>20</td>\n",
              "      <td>2</td>\n",
              "      <td>183</td>\n",
              "    </tr>\n",
              "    <tr>\n",
              "      <th>272</th>\n",
              "      <td>8372308</td>\n",
              "      <td>East Toranomon is the Central Tokyo</td>\n",
              "      <td>43230315</td>\n",
              "      <td>Hirotake</td>\n",
              "      <td>Minato Ku</td>\n",
              "      <td>35.66839</td>\n",
              "      <td>139.75200</td>\n",
              "      <td>Entire home/apt</td>\n",
              "      <td>24249</td>\n",
              "      <td>1</td>\n",
              "      <td>199</td>\n",
              "      <td>2</td>\n",
              "      <td>338</td>\n",
              "    </tr>\n",
              "    <tr>\n",
              "      <th>...</th>\n",
              "      <td>...</td>\n",
              "      <td>...</td>\n",
              "      <td>...</td>\n",
              "      <td>...</td>\n",
              "      <td>...</td>\n",
              "      <td>...</td>\n",
              "      <td>...</td>\n",
              "      <td>...</td>\n",
              "      <td>...</td>\n",
              "      <td>...</td>\n",
              "      <td>...</td>\n",
              "      <td>...</td>\n",
              "      <td>...</td>\n",
              "    </tr>\n",
              "    <tr>\n",
              "      <th>10944</th>\n",
              "      <td>47541030</td>\n",
              "      <td>Roppongi&amp;Akasaka Area★5min from sta.★Free WIFI...</td>\n",
              "      <td>276966400</td>\n",
              "      <td>Mutsuka</td>\n",
              "      <td>Minato Ku</td>\n",
              "      <td>35.66729</td>\n",
              "      <td>139.73815</td>\n",
              "      <td>Entire home/apt</td>\n",
              "      <td>10771</td>\n",
              "      <td>2</td>\n",
              "      <td>4</td>\n",
              "      <td>4</td>\n",
              "      <td>347</td>\n",
              "    </tr>\n",
              "    <tr>\n",
              "      <th>10945</th>\n",
              "      <td>47541081</td>\n",
              "      <td>Roppongi&amp;Akasaka Area★5min from sta.★Free WIFI...</td>\n",
              "      <td>276966400</td>\n",
              "      <td>Mutsuka</td>\n",
              "      <td>Minato Ku</td>\n",
              "      <td>35.66883</td>\n",
              "      <td>139.73821</td>\n",
              "      <td>Entire home/apt</td>\n",
              "      <td>7343</td>\n",
              "      <td>2</td>\n",
              "      <td>5</td>\n",
              "      <td>4</td>\n",
              "      <td>345</td>\n",
              "    </tr>\n",
              "    <tr>\n",
              "      <th>11063</th>\n",
              "      <td>48127305</td>\n",
              "      <td>5 min from Station/near Tokyo Tower/Free Wifi/301</td>\n",
              "      <td>388123518</td>\n",
              "      <td>琴</td>\n",
              "      <td>Minato Ku</td>\n",
              "      <td>35.65330</td>\n",
              "      <td>139.74660</td>\n",
              "      <td>Entire home/apt</td>\n",
              "      <td>12429</td>\n",
              "      <td>2</td>\n",
              "      <td>3</td>\n",
              "      <td>3</td>\n",
              "      <td>186</td>\n",
              "    </tr>\n",
              "    <tr>\n",
              "      <th>11066</th>\n",
              "      <td>48142320</td>\n",
              "      <td>5 min from Station/near Tokyo Tower/Free Wifi/302</td>\n",
              "      <td>388123518</td>\n",
              "      <td>琴</td>\n",
              "      <td>Minato Ku</td>\n",
              "      <td>35.65165</td>\n",
              "      <td>139.74529</td>\n",
              "      <td>Entire home/apt</td>\n",
              "      <td>7071</td>\n",
              "      <td>2</td>\n",
              "      <td>1</td>\n",
              "      <td>3</td>\n",
              "      <td>339</td>\n",
              "    </tr>\n",
              "    <tr>\n",
              "      <th>11067</th>\n",
              "      <td>48142364</td>\n",
              "      <td>5 min from Station/near Tokyo Tower/Free Wifi/303</td>\n",
              "      <td>388123518</td>\n",
              "      <td>琴</td>\n",
              "      <td>Minato Ku</td>\n",
              "      <td>35.65304</td>\n",
              "      <td>139.74727</td>\n",
              "      <td>Entire home/apt</td>\n",
              "      <td>6357</td>\n",
              "      <td>2</td>\n",
              "      <td>2</td>\n",
              "      <td>3</td>\n",
              "      <td>352</td>\n",
              "    </tr>\n",
              "  </tbody>\n",
              "</table>\n",
              "<p>336 rows × 13 columns</p>\n",
              "</div>"
            ],
            "text/plain": [
              "             id  ... availability_365\n",
              "191     6803014  ...              146\n",
              "194     6815505  ...              189\n",
              "215     7227038  ...              333\n",
              "249     7948752  ...              183\n",
              "272     8372308  ...              338\n",
              "...         ...  ...              ...\n",
              "10944  47541030  ...              347\n",
              "10945  47541081  ...              345\n",
              "11063  48127305  ...              186\n",
              "11066  48142320  ...              339\n",
              "11067  48142364  ...              352\n",
              "\n",
              "[336 rows x 13 columns]"
            ]
          },
          "metadata": {
            "tags": []
          },
          "execution_count": 31
        }
      ]
    },
    {
      "cell_type": "markdown",
      "metadata": {
        "id": "8GX327vL6YI4"
      },
      "source": [
        "Podemos ver que para esta variavel é algo fácil se enganar quanto ao local mais caro, os 3 primeiros distritos desta lista, embora possuam valores relativamente elevados, possuem pouca oferta de imóveis por se tratarem de locais muito afastados do centro de Tóquio, já Shibuya, Minato e Shinjuku são os distritos mais populosos e demograficamente densos de Tóquio, possuindo uma oferta de imóveis muito maior, com uma distribuição de preço muito maior.\n",
        "Podemos dizer que devido a pequena quantidade de observações para este conjunto de dados não podemos tirar nenhuma conclusão razoável a respeito do conjunto total."
      ]
    },
    {
      "cell_type": "markdown",
      "metadata": {
        "id": "zf8vuhJNiQ_4"
      },
      "source": [
        "Como são fornecidas as Latitudes e Longitudes para os imóveis, é possível plotar cada ponto. Para isso, considera-se `x=longitude` e `y=latitude`."
      ]
    },
    {
      "cell_type": "code",
      "metadata": {
        "id": "UxVJqJ_3W59I",
        "colab": {
          "base_uri": "https://localhost:8080/",
          "height": 476
        },
        "outputId": "aa1fab0b-6f28-4a41-837f-a13076b86f23"
      },
      "source": [
        "# plotar os imóveis pela latitude-longitude\n",
        "df_clean.plot(kind='scatter', x='longitude', y='latitude', alpha=0.4, c=df_clean['price'], s=8, \n",
        "              cmap=plt.get_cmap('jet'), figsize=(12,8));"
      ],
      "execution_count": null,
      "outputs": [
        {
          "output_type": "display_data",
          "data": {
            "image/png": "[encoded data removed]",
            "text/plain": [
              "<Figure size 864x576 with 2 Axes>"
            ]
          },
          "metadata": {
            "tags": [],
            "needs_background": "light"
          }
        }
      ]
    },
    {
      "cell_type": "markdown",
      "metadata": {
        "id": "vTneAMRUYvr1"
      },
      "source": [
        "### **Q7. Qual é a média do mínimo de noites para aluguel (minimum_nights)?**"
      ]
    },
    {
      "cell_type": "code",
      "metadata": {
        "id": "_VzNhrEgY82N",
        "colab": {
          "base_uri": "https://localhost:8080/"
        },
        "outputId": "33c2e05f-9684-46e3-95f8-3c9909be735b"
      },
      "source": [
        "# ver a média da coluna `minimum_nights``\n",
        "df_clean.minimum_nights.mean()"
      ],
      "execution_count": 33,
      "outputs": [
        {
          "output_type": "execute_result",
          "data": {
            "text/plain": [
              "1.2901869158878505"
            ]
          },
          "metadata": {
            "tags": []
          },
          "execution_count": 33
        }
      ]
    },
    {
      "cell_type": "markdown",
      "metadata": {
        "id": "GkvAg623RjoR"
      },
      "source": [
        "## Conclusões\n",
        "\n",
        "Como ja mencionado no Q1 deste notebook, este dataset retrata apenas um resumo dos dados do AirBnBm, e por conta disto temos uma analise menos detalhada e com menos profundidade dos dados.\n",
        "\n",
        "Dito isto, podemos observar que se e muito presente neste dataset outliers em algumas das variaveis.\n",
        "\n",
        "Tambems notamos que em algumas localidades existem pouquissimos imoveis, distorcendo as informacoes estatisticas de alguns atributos como podemos ver no Q6.\n",
        "\n",
        "Por fim, lembro que esta e apenas a analise superficial de um estudante de cientista de dados iniciando neste grande mundo.\n",
        "\n",
        "Para uma analise mais profunda dos dados, favor ir ao site http://insideairbnb.com/get-the-data.html e baixar o arquivo `\tlistings.csv.gz`. \n",
        "Obrigado!"
      ]
    }
  ]
}